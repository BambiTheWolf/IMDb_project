{
 "cells": [
  {
   "cell_type": "code",
   "execution_count": 2,
   "metadata": {},
   "outputs": [],
   "source": [
    "import pandas as pd\n",
    "import requests\n",
    "from bs4 import BeautifulSoup"
   ]
  },
  {
   "cell_type": "code",
   "execution_count": 27,
   "metadata": {
    "scrolled": true
   },
   "outputs": [
    {
     "name": "stdout",
     "output_type": "stream",
     "text": [
      "[8.6, 6.1, 7.2, 7.8, 6.7, 7.6, 5.8, 7.6, 6.1, 5.9, 6.3, 7.3, 7.6, 6.8, 7.2, 7.7, 7.2, 7.7, 6.0, 6.4, 6.8, 7.3, 5.9, 5.8, 6.7, 7.2, 7.2, 7.3, 7.6, 7.1, 8.1, 8.0, 8.0, 7.5, 6.9, 6.7, 5.4, 6.5, 8.5, 6.5, 6.4, 5.1, 7.4, 6.3, 8.0, 7.2, 7.5, 7.4, 7.2, 7.7, 6.1, 8.1, 6.2, 5.5, 6.9, 7.8, 6.6, 5.6, 6.4, 6.3, 7.1, 7.0, 7.0, 6.8, 6.5, 5.3, 8.0, 8.3, 4.7, 7.7, 5.2, 5.1, 6.6, 9.0, 5.9, 6.9, 6.8, 7.3, 6.1, 7.8, 7.2, 6.3, 6.2, 9.0, 8.3, 6.6, 6.6, 4.9, 6.9, 8.3, 6.6, 6.5, 7.1, 7.7, 8.0, 8.0, 6.8, 7.3, 6.3, 7.6]\n"
     ]
    }
   ],
   "source": [
    "page = requests.get(\"https://www.imdb.com/list/ls064287418/\")\n",
    "page\n",
    "page.status_code\n",
    "page.content\n",
    "soup = BeautifulSoup(page.content, \"html.parser\")\n",
    "#print(soup.prettify())\n",
    "#rating2 = soup.find_all('div', class_ = \"ipl-rating-star small\")\n",
    "rating = soup.find_all('span', class_ = \"ipl-rating-star__rating\")\n",
    "#print(rating)\n",
    "string = str(rating)\n",
    "string = string.replace('<span class=\"ipl-rating-star__rating\">','rat').replace('</span>, ratRate</span>, rat','').replace('</span>, rat012345678910','rat').replace('</span>, ratRate</span>]','').strip('[').strip('')\n",
    "#print(string)\n",
    "strings = string.split('rat')\n",
    "del strings[-1]\n",
    "del strings[0]\n",
    "#print(strings)\n",
    "nums = list(map(float, strings))\n",
    "print(nums)"
   ]
  }
 ],
 "metadata": {
  "kernelspec": {
   "display_name": "Python 3",
   "language": "python",
   "name": "python3"
  },
  "language_info": {
   "codemirror_mode": {
    "name": "ipython",
    "version": 3
   },
   "file_extension": ".py",
   "mimetype": "text/x-python",
   "name": "python",
   "nbconvert_exporter": "python",
   "pygments_lexer": "ipython3",
   "version": "3.7.6"
  }
 },
 "nbformat": 4,
 "nbformat_minor": 4
}
